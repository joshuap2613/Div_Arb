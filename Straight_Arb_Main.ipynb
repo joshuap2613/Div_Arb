{
 "cells": [
  {
   "cell_type": "markdown",
   "metadata": {},
   "source": [
    "# Div Arb Straight Up\n",
    "\n",
    "**The Goal of this notebook is to locate areas of \"straight up arbitrage\" where we can gather at least .5% 2-day profit on liquid options**\n",
    "\n",
    "*We Define \"Straight Up Arb\" as *Arbitrage from purchasing a put close to expiry where*     \n",
    "`Div*(1-tax) - Cost_option < Underlying - Strike`   \n",
    "We define percentage of arbitrage as The Percentage of Arbitrage that we can get from this as   \n",
    "`Div * (1 - tax) / (Underlying + Cost_Option)`   \n",
    "Since we can put on a position daily we would be satisfied with anything like a .2% return (keep in mind that our profits only get compounded every 1.5 months since there is a 1.5 month delay before getting payment from the dividend. In fact we may slowly bleed liquidity until dividend payments start coming through)."
   ]
  },
  {
   "cell_type": "code",
   "execution_count": null,
   "metadata": {},
   "outputs": [],
   "source": [
    "Dividend*(1-tax)/(Strike+Cost)"
   ]
  }
 ],
 "metadata": {
  "kernelspec": {
   "display_name": "Python 3",
   "language": "python",
   "name": "python3"
  },
  "language_info": {
   "codemirror_mode": {
    "name": "ipython",
    "version": 3
   },
   "file_extension": ".py",
   "mimetype": "text/x-python",
   "name": "python",
   "nbconvert_exporter": "python",
   "pygments_lexer": "ipython3",
   "version": "3.7.4"
  }
 },
 "nbformat": 4,
 "nbformat_minor": 2
}
