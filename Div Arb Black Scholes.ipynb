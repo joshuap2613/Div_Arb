{
 "cells": [
  {
   "cell_type": "markdown",
   "metadata": {},
   "source": [
    "# Div Arb Black Scholes\n",
    "\n",
    "**Use the Black Scholes Pricing Model to purchase underlying and Puts that seem to be underpriced** (we can also look to just purchasing Puts that are underpriced.\n",
    "    \n",
    "This looks is a little more nuanced than Vanilla Straight Up Arb. We want to see if Greek Delta is accurate for put options during stock movement after Ex-Dividend Date. If delta is 0 this approach will not work. We calculate our new delta d' that is more accurate by taking into account dividend dates.    \n",
    "    \n",
    "Now our goal is to find when 1+d' is \"close\" to 0, Dividend is \"high\", and Underlying Volatility is \"low\"    \n",
    "Our profit percentage would be Dividend*(1-tax)/(Underlying + Put_price)"
   ]
  },
  {
   "cell_type": "code",
   "execution_count": null,
   "metadata": {},
   "outputs": [],
   "source": []
  }
 ],
 "metadata": {
  "kernelspec": {
   "display_name": "Python 3",
   "language": "python",
   "name": "python3"
  },
  "language_info": {
   "codemirror_mode": {
    "name": "ipython",
    "version": 3
   },
   "file_extension": ".py",
   "mimetype": "text/x-python",
   "name": "python",
   "nbconvert_exporter": "python",
   "pygments_lexer": "ipython3",
   "version": "3.7.4"
  }
 },
 "nbformat": 4,
 "nbformat_minor": 2
}
